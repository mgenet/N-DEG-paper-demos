{
 "cells": [
  {
   "cell_type": "markdown",
   "metadata": {},
   "source": [
    "# Figures 1, 2, 3 & 4"
   ]
  },
  {
   "cell_type": "markdown",
   "metadata": {},
   "source": [
    "## Imports"
   ]
  },
  {
   "cell_type": "code",
   "execution_count": null,
   "metadata": {
    "scrolled": true
   },
   "outputs": [],
   "source": [
    "import dolfin  # https://fenicsproject.org\n",
    "import IPython # https://ipython.org\n",
    "import vtk     # https://vtk.org\n",
    "\n",
    "import dolfin_warp as dwarp # https://github.com/mgenet/dolfin_warp\n",
    "\n",
    "from generate_images_and_meshes_from_Struct import generate_images_and_meshes_from_Struct\n",
    "from plot_disp_error_vs_regul_strength      import plot_disp_error_vs_regul_strength\n",
    "from lib_viewer                             import Viewer"
   ]
  },
  {
   "cell_type": "markdown",
   "metadata": {},
   "source": [
    "## Parameters"
   ]
  },
  {
   "cell_type": "code",
   "execution_count": null,
   "metadata": {},
   "outputs": [],
   "source": [
    "n_dim = 2\n",
    "\n",
    "images_folder = \"generate_images\"\n",
    "\n",
    "n_voxels = 100\n",
    "\n",
    "structure_deformation_type_lst  = [                         ]\n",
    "structure_deformation_type_lst += [[\"square\", \"translation\"]]\n",
    "structure_deformation_type_lst += [[\"square\", \"rotation\"   ]]\n",
    "structure_deformation_type_lst += [[\"square\", \"compression\"]]\n",
    "structure_deformation_type_lst += [[\"square\", \"shear\"      ]]\n",
    "\n",
    "texture_type_lst  = [         ]\n",
    "texture_type_lst += [\"tagging\"]\n",
    "\n",
    "noise_level_lst  = [   ]\n",
    "noise_level_lst += [0.0]\n",
    "noise_level_lst += [0.1]\n",
    "noise_level_lst += [0.2]\n",
    "noise_level_lst += [0.3]\n",
    "\n",
    "n_runs_for_noisy_images = 10\n",
    "\n",
    "working_folder  = \"run_warp\"\n",
    "\n",
    "mesh_size_lst  = [   ]\n",
    "mesh_size_lst += [0.1]\n",
    "\n",
    "regul_type_lst  = [                                                          ]\n",
    "regul_type_lst += [\"continuous-linear-elastic\"                               ]\n",
    "regul_type_lst += [\"continuous-linear-equilibrated\"                          ]\n",
    "regul_type_lst += [\"continuous-elastic\"                                      ]\n",
    "regul_type_lst += [\"continuous-equilibrated\"                                 ]\n",
    "regul_type_lst += [\"discrete-simple-elastic\"                                 ]\n",
    "regul_type_lst += [\"discrete-simple-equilibrated\"                            ]\n",
    "regul_type_lst += [\"discrete-linear-equilibrated\"                            ]\n",
    "regul_type_lst += [\"discrete-linear-equilibrated-tractions-normal\"           ]\n",
    "regul_type_lst += [\"discrete-linear-equilibrated-tractions-tangential\"       ]\n",
    "regul_type_lst += [\"discrete-linear-equilibrated-tractions-normal-tangential\"]\n",
    "regul_type_lst += [\"discrete-equilibrated\"                                   ]\n",
    "regul_type_lst += [\"discrete-equilibrated-tractions-normal\"                  ]\n",
    "regul_type_lst += [\"discrete-equilibrated-tractions-tangential\"              ]\n",
    "regul_type_lst += [\"discrete-equilibrated-tractions-normal-tangential\"       ]\n",
    "\n",
    "regul_level_lst  = [        ]\n",
    "regul_level_lst += [0.99    ]\n",
    "regul_level_lst += [0.1*2**3]\n",
    "regul_level_lst += [0.1*2**2]\n",
    "regul_level_lst += [0.1*2**1]\n",
    "regul_level_lst += [0.1     ]\n",
    "regul_level_lst += [0.1/2**1]\n",
    "regul_level_lst += [0.1/2**2]\n",
    "regul_level_lst += [0.1/2**3]\n",
    "regul_level_lst += [0.0     ]\n",
    "\n",
    "do_generate_images                   = 1\n",
    "do_generate_meshes                   = 1\n",
    "do_run_warp                          = 1\n",
    "do_plot_disp_error_vs_regul_strength = 1"
   ]
  },
  {
   "cell_type": "markdown",
   "metadata": {},
   "source": [
    "## Synthetic images"
   ]
  },
  {
   "cell_type": "code",
   "execution_count": null,
   "metadata": {},
   "outputs": [],
   "source": [
    "if (do_generate_images):\n",
    " for structure_type, deformation_type in structure_deformation_type_lst:\n",
    "  for texture_type                     in texture_type_lst              : \n",
    "   for noise_level                      in noise_level_lst               :\n",
    "\n",
    "    n_runs = n_runs_for_noisy_images if (noise_level > 0) else 1\n",
    "\n",
    "    for k_run in range(1, n_runs+1):\n",
    "\n",
    "        print(\"*** generate_images ***\"            )\n",
    "        print(\"structure_type:\"  , structure_type  )\n",
    "        print(\"deformation_type:\", deformation_type)\n",
    "        print(\"texture_type:\"    , texture_type    )\n",
    "        print(\"noise_level:\"     , noise_level     )\n",
    "        print(\"k_run:\"           , k_run           )\n",
    "\n",
    "        generate_images_and_meshes_from_Struct(\n",
    "            n_dim            = n_dim                          ,\n",
    "            n_voxels         = n_voxels                       ,\n",
    "            structure_type   = structure_type                 ,\n",
    "            deformation_type = deformation_type               ,\n",
    "            texture_type     = texture_type                   ,\n",
    "            noise_level      = noise_level                    ,\n",
    "            k_run            = k_run if (n_runs > 1) else None,\n",
    "            generate_images  = 1                              ,\n",
    "            compute_meshes   = 0                              )"
   ]
  },
  {
   "cell_type": "markdown",
   "metadata": {},
   "source": [
    "## Ground truth motion"
   ]
  },
  {
   "cell_type": "code",
   "execution_count": null,
   "metadata": {},
   "outputs": [],
   "source": [
    "if (do_generate_meshes):\n",
    " for structure_type, deformation_type in structure_deformation_type_lst:\n",
    "  for mesh_size                        in mesh_size_lst                 :\n",
    "\n",
    "    print(\"*** generate_meshes ***\"            )\n",
    "    print(\"structure_type:\"  , structure_type  )\n",
    "    print(\"deformation_type:\", deformation_type)\n",
    "    print(\"mesh_size:\"       , mesh_size       )\n",
    "\n",
    "    generate_images_and_meshes_from_Struct(\n",
    "        n_dim            = n_dim           ,\n",
    "        n_voxels         = n_voxels        ,\n",
    "        structure_type   = structure_type  ,\n",
    "        deformation_type = deformation_type,\n",
    "        texture_type     = \"no\"            ,\n",
    "        noise_level      = 0               ,\n",
    "        mesh_size        = mesh_size       ,\n",
    "        generate_images  = 0               ,\n",
    "        compute_meshes   = 1               )"
   ]
  },
  {
   "cell_type": "markdown",
   "metadata": {},
   "source": [
    "## Tracking"
   ]
  },
  {
   "cell_type": "code",
   "execution_count": null,
   "metadata": {},
   "outputs": [],
   "source": [
    "if (do_run_warp):\n",
    " for structure_type, deformation_type in structure_deformation_type_lst:\n",
    "  for texture_type                     in texture_type_lst              :\n",
    "   for noise_level                      in noise_level_lst               :\n",
    "\n",
    "    n_runs = n_runs_for_noisy_images if (noise_level > 0) else 1\n",
    "\n",
    "    for k_run       in range(1, n_runs+1):\n",
    "     for mesh_size   in mesh_size_lst     :\n",
    "      for regul_type  in regul_type_lst    :\n",
    "       for regul_level in regul_level_lst   :\n",
    "\n",
    "        if any([_ in regul_type for _ in [\"linear\", \"simple\"]]):\n",
    "            regul_model = \"hooke\"\n",
    "        else:\n",
    "            regul_model = \"ciarletgeymonatneohookean\"\n",
    "\n",
    "        regul_poisson = 0.0\n",
    "\n",
    "        print(\"*** run_warp ***\"                   )\n",
    "        print(\"structure_type:\"  , structure_type  )\n",
    "        print(\"deformation_type:\", deformation_type)\n",
    "        print(\"texture_type:\"    , texture_type    )\n",
    "        print(\"noise_level:\"     , noise_level     )\n",
    "        print(\"k_run:\"           , k_run           )\n",
    "        print(\"mesh_size:\"       , mesh_size       )\n",
    "        print(\"regul_type:\"      , regul_type      )\n",
    "        print(\"regul_model:\"     , regul_model     )\n",
    "        print(\"regul_level:\"     , regul_level     )\n",
    "        print(\"regul_poisson:\"   , regul_poisson   )\n",
    "\n",
    "        images_basename  = structure_type\n",
    "        images_basename += \"-\"+deformation_type\n",
    "        images_basename += \"-\"+texture_type\n",
    "        images_basename += \"-noise=\"+str(noise_level)\n",
    "        if (n_runs > 1):\n",
    "            images_basename += \"-run=\"+str(k_run).zfill(2)\n",
    "\n",
    "        mesh_folder = images_folder\n",
    "\n",
    "        mesh_basename  = structure_type\n",
    "        mesh_basename += \"-\"+deformation_type\n",
    "        mesh_basename += \"-h=\"+str(mesh_size)\n",
    "        if (structure_type == \"heart\"):\n",
    "            mesh_basename += \"-mesh\"\n",
    "\n",
    "        working_basename  = images_basename\n",
    "        working_basename += \"-h=\"+str(mesh_size)\n",
    "        working_basename += \"-\"+regul_type\n",
    "        working_basename += \"-regul=\"+str(regul_level)\n",
    "\n",
    "        dwarp.warp(\n",
    "            working_folder                              = working_folder  ,\n",
    "            working_basename                            = working_basename,\n",
    "            images_folder                               = images_folder   ,\n",
    "            images_basename                             = images_basename ,\n",
    "            mesh_folder                                 = mesh_folder     ,\n",
    "            mesh_basename                               = mesh_basename   ,\n",
    "            regul_type                                  = regul_type      ,\n",
    "            regul_model                                 = regul_model     ,\n",
    "            regul_level                                 = regul_level     ,\n",
    "            regul_poisson                               = regul_poisson   ,\n",
    "            relax_type                                  = \"backtracking\"  ,\n",
    "            normalize_energies                          = 1               ,\n",
    "            tol_dU                                      = 1e-2            ,\n",
    "            n_iter_max                                  = 100             ,\n",
    "            continue_after_fail                         = 1               ,\n",
    "            write_VTU_files                             = 1               ,\n",
    "            write_VTU_files_with_preserved_connectivity = 1               )"
   ]
  },
  {
   "cell_type": "markdown",
   "metadata": {},
   "source": [
    "## Visualization"
   ]
  },
  {
   "cell_type": "code",
   "execution_count": null,
   "metadata": {},
   "outputs": [],
   "source": [
    "structure_type = \"square\"\n",
    "\n",
    "deformation_type = \"translation\"\n",
    "# deformation_type = \"rotation\"\n",
    "# deformation_type = \"compression\"\n",
    "# deformation_type = \"shear\"\n",
    "\n",
    "texture_type = \"tagging\"\n",
    "\n",
    "noise_level = 0.\n",
    "# noise_level = 0.1\n",
    "# noise_level = 0.2\n",
    "# noise_level = 0.3\n",
    "\n",
    "k_run = 0\n",
    "\n",
    "mesh_size = 0.1\n",
    "\n",
    "# regul_type = \"continuous-linear-elastic\"\n",
    "# regul_type = \"continuous-linear-equilibrated\"\n",
    "# regul_type = \"continuous-elastic\"\n",
    "# regul_type = \"continuous-equilibrated\"\n",
    "# regul_type = \"discrete-simple-elastic\"\n",
    "# regul_type = \"discrete-simple-equilibrated\"\n",
    "# regul_type = \"discrete-linear-equilibrated\"\n",
    "# regul_type = \"discrete-linear-equilibrated-tractions-normal\"\n",
    "# regul_type = \"discrete-linear-equilibrated-tractions-tangential\"\n",
    "# regul_type = \"discrete-linear-equilibrated-tractions-normal-tangential\"\n",
    "# regul_type = \"discrete-equilibrated\"\n",
    "# regul_type = \"discrete-equilibrated-tractions-normal\"\n",
    "# regul_type = \"discrete-equilibrated-tractions-tangential\"\n",
    "regul_type = \"discrete-equilibrated-tractions-normal-tangential\"\n",
    "\n",
    "# regul_level = 0.99\n",
    "# regul_level = 0.1*2**3\n",
    "# regul_level = 0.1*2**2\n",
    "# regul_level = 0.1*2**1\n",
    "regul_level = 0.1\n",
    "# regul_level = 0.1/2**1\n",
    "# regul_level = 0.1/2**2\n",
    "# regul_level = 0.1/2**3\n",
    "# regul_level = 0.0\n",
    "\n",
    "images_basename  = structure_type\n",
    "images_basename += \"-\"+deformation_type\n",
    "images_basename += \"-\"+texture_type\n",
    "images_basename += \"-noise=\"+str(noise_level)\n",
    "if (k_run > 0):\n",
    "    images_basename += \"-run=\"+str(k_run).zfill(2)\n",
    "\n",
    "working_basename  = images_basename\n",
    "working_basename += \"-h=\"+str(mesh_size)\n",
    "working_basename += \"-\"+regul_type\n",
    "working_basename += \"-regul=\"+str(regul_level)\n",
    "\n",
    "viewer = Viewer(\n",
    "    images=images_folder+\"/\"+images_basename+\"_*.vti\",\n",
    "    meshes=working_folder+\"/\"+working_basename+\"_*.vtu\")\n",
    "viewer.view()"
   ]
  },
  {
   "cell_type": "markdown",
   "metadata": {},
   "source": [
    "## Plot"
   ]
  },
  {
   "cell_type": "code",
   "execution_count": null,
   "metadata": {},
   "outputs": [],
   "source": [
    "if (do_plot_disp_error_vs_regul_strength):\n",
    " for structure_type, deformation_type in structure_deformation_type_lst:\n",
    "  for texture_type                     in texture_type_lst              :\n",
    "   for regul_type                       in regul_type_lst                :\n",
    "\n",
    "    print(\"*** plot_disp_error_vs_regul_strength ***\")\n",
    "    print(\"structure_type:\"  , structure_type  )\n",
    "    print(\"deformation_type:\", deformation_type)\n",
    "    print(\"texture_type:\"    , texture_type    )\n",
    "    print(\"regul_type:\"      , regul_type      )\n",
    "\n",
    "    plot_disp_error_vs_regul_strength(\n",
    "        images_folder           = images_folder          ,\n",
    "        sol_folder              = working_folder         ,\n",
    "        structure_type          = structure_type         ,\n",
    "        deformation_type        = deformation_type       ,\n",
    "        texture_type            = texture_type           ,\n",
    "        regul_type              = regul_type             ,\n",
    "        noise_level_lst         = noise_level_lst        ,\n",
    "        n_runs_for_noisy_images = n_runs_for_noisy_images,\n",
    "        regul_level_lst         = regul_level_lst        ,\n",
    "        regul_level_for_zero    = 1e-3                   ,\n",
    "        generate_datafile       = 1                      ,\n",
    "        generate_plotfile       = 1                      ,\n",
    "        generate_plot           = 1                      )\n",
    "\n",
    "    plotfile_basename  = \"plot_disp_error_vs_regul_strength\"\n",
    "    plotfile_basename += \"/\"+structure_type\n",
    "    plotfile_basename += \"-\"+deformation_type\n",
    "    plotfile_basename += \"-\"+texture_type\n",
    "    plotfile_basename += \"-\"+regul_type\n",
    "    IPython.display.display(IPython.display.Image(filename=plotfile_basename+'.png'))\n"
   ]
  }
 ],
 "metadata": {
  "kernelspec": {
   "display_name": "Python 3.8.15 ('MEC581-2023')",
   "language": "python",
   "name": "python3"
  },
  "language_info": {
   "codemirror_mode": {
    "name": "ipython",
    "version": 3
   },
   "file_extension": ".py",
   "mimetype": "text/x-python",
   "name": "python",
   "nbconvert_exporter": "python",
   "pygments_lexer": "ipython3",
   "version": "3.8.15"
  },
  "toc": {
   "base_numbering": 1,
   "nav_menu": {},
   "number_sections": true,
   "sideBar": true,
   "skip_h1_title": true,
   "title_cell": "Table of Contents",
   "title_sidebar": "Contents",
   "toc_cell": false,
   "toc_position": {
    "height": "calc(100% - 180px)",
    "left": "10px",
    "top": "150px",
    "width": "292.533px"
   },
   "toc_section_display": true,
   "toc_window_display": true
  },
  "varInspector": {
   "cols": {
    "lenName": 16,
    "lenType": 16,
    "lenVar": 40
   },
   "kernels_config": {
    "python": {
     "delete_cmd_postfix": "",
     "delete_cmd_prefix": "del ",
     "library": "var_list.py",
     "varRefreshCmd": "print(var_dic_list())"
    },
    "r": {
     "delete_cmd_postfix": ") ",
     "delete_cmd_prefix": "rm(",
     "library": "var_list.r",
     "varRefreshCmd": "cat(var_dic_list()) "
    }
   },
   "types_to_exclude": [
    "module",
    "function",
    "builtin_function_or_method",
    "instance",
    "_Feature"
   ],
   "window_display": false
  },
  "vscode": {
   "interpreter": {
    "hash": "7270dbcea11da5cec531e1718dcee1b0bd6d50ade99199989795797a9208c905"
   }
  }
 },
 "nbformat": 4,
 "nbformat_minor": 4
}
